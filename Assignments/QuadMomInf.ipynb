{
 "cells": [
  {
   "cell_type": "markdown",
   "metadata": {},
   "source": [
    "# Example Bayesian Monte Carlo\n",
    "\n",
    "This notebook follows Kevin's example of doing a Bayesian Monte Carlo analysis of a decaying sinusoidal function with noise, applied to the Mercury precession problem."
   ]
  },
  {
   "cell_type": "code",
   "execution_count": null,
   "metadata": {},
   "outputs": [],
   "source": [
    "#from __future__ import division\n",
    "import numpy as np\n",
    "import emcee\n",
    "from numpy.random import randn, rand\n",
    "import matplotlib.gridspec as gridspec\n",
    "import corner\n",
    "import matplotlib as mpl\n",
    "import matplotlib.pyplot as plt\n",
    "from scipy import integrate\n",
    "from scipy import interpolate\n",
    "from scipy import optimize\n",
    "import astropy.constants as const\n",
    "\n",
    "from timeit import default_timer as timer  # this is for timing the ODE solvers\n",
    "\n",
    "%matplotlib inline\n",
    "\n",
    "# uncomment if you have a Mac with Retina display\n",
    "%config InlineBackend.figure_format = 'retina'\n",
    "\n",
    "mpl.rcParams.update({'text.usetex': False,\n",
    "                     'lines.linewidth': 2.5,\n",
    "                     'font.size': 18,\n",
    "                     'xtick.labelsize': 'large',\n",
    "                     'ytick.labelsize': 'large',\n",
    "                     'axes.labelsize': 'large',\n",
    "                     'axes.grid': True,\n",
    "                     'grid.alpha': 0.73,\n",
    "                     'lines.markersize': 12,\n",
    "                     'legend.borderpad': 0.2,\n",
    "                     'legend.fancybox': True,\n",
    "                     'legend.fontsize': 13,\n",
    "                     'legend.framealpha': 0.7,\n",
    "                     'legend.handletextpad': 0.1,\n",
    "                     'legend.labelspacing': 0.2,\n",
    "                     'legend.loc': 'best',\n",
    "                     'savefig.dpi': 100,\n",
    "                     'figure.figsize': (9,6),\n",
    "                     'pdf.compression': 9})"
   ]
  },
  {
   "cell_type": "markdown",
   "metadata": {},
   "source": [
    "## Set up the model\n",
    "\n",
    "The model is provided by the JPL ephemeris ODE solver for the precession of mercury. We assume this solver gives us a precession value that we can compare to measurements.\n",
    "\n",
    "The parameters are the Sun's quadrupole moment (magnitude and direction)"
   ]
  },
  {
   "cell_type": "code",
   "execution_count": null,
   "metadata": {},
   "outputs": [],
   "source": [
    "# some constants\n",
    "a = 0.38709893 * const.au.value;    # average radius\n",
    "e = 0.20563069     # eccentricity\n",
    "m = 0.33011 * 10**24 #/ const.M_sun.value # mass of mercury (units of solar mass)\n",
    "M = const.M_sun.value                                  # mass of sun\n",
    "\n",
    "\n",
    "asecprad = 180/np.pi * 3600\n",
    "dayspy   = 365.25         # Julian years\n",
    "secspd   = 86400          # seconds per day\n",
    "secspy   = dayspy * secspd\n",
    "\n",
    "G = const.G.value #/ (const.au.value**3) * const.M_sun.value * secspy**2  # Newton [AU**3 / Msun / year**2]\n",
    "c = const.c.value #/  const.au.value  * secspy   # speed of light [AU / year]\n",
    "period = 2*np.pi * np.sqrt(a**3 / (G*M))\n",
    "L = m * np.sqrt(G * M * a * (1-e**2)) # mercury's angular momentum\n",
    "l = L / m"
   ]
  },
  {
   "cell_type": "code",
   "execution_count": null,
   "metadata": {},
   "outputs": [],
   "source": [
    "n_Earth_years = 1000\n",
    "n_steps = n_Earth_years * (secspy / period) * 300\n",
    "t = np.linspace(0, n_Earth_years*secspy, int(n_steps)) # time in units of seconds\n",
    "\n",
    "tol = 1e-11\n",
    "#       r   , rdot, phi\n",
    "r0 = a * (1-e)\n",
    "y0 = [r0, 0.0, 0.0]\n",
    "#print(t)"
   ]
  },
  {
   "cell_type": "code",
   "execution_count": null,
   "metadata": {},
   "outputs": [],
   "source": [
    "def rad_time_GR(y, t, J2, Jtheta):\n",
    "    r, rdot, phi  = y\n",
    "    dydt = [rdot, -G*M/r**2 + l**2/r**3 - J2*G*(l**2)*M*np.cos(Jtheta)/(2 * c**2 * r**4), l/r**2] \n",
    "    # the equation for d(rdot)/dt includes the GR term\n",
    "    return dydt"
   ]
  },
  {
   "cell_type": "code",
   "execution_count": null,
   "metadata": {},
   "outputs": [],
   "source": [
    "def signalFunction(J2, Jtheta):\n",
    "    sol_GR = integrate.odeint(rad_time_GR, y0, t, args=(J2, Jtheta), atol=tol, rtol = tol, printmessg=True, hmax=period/4)\n",
    "    fr_GR   = interpolate.splrep(t, sol_GR[:,0]) #interpolate radius with time\n",
    "    fphi_GR = interpolate.splrep(t, sol_GR[:,2]) #interpolate phi with time\n",
    "\n",
    "    time_periapsis = [] # record time of periapsis\n",
    "    delta_per      = [] # record shift in periapsis (in each orbit)\n",
    "    per_rate       = [] # record the average rate of shift in periapsis \n",
    "\n",
    "    N = n_Earth_years * secspy / period # how many periods to monitor\n",
    "\n",
    "    for ii in range(int(N-202), int(N-2)):\n",
    "        # find time at which r is the same as periapsis again\n",
    "        sol = optimize.root(lambda t : interpolate.splev(t, fr_GR, der=0) - y0[0], ii*period)\n",
    "        time_periapsis = np.append(time_periapsis, sol.x) #record time of periapsis\n",
    "        # calculate the change in phi, this gives a cumulative change\n",
    "        delta_per      = np.append(delta_per,\n",
    "                                   interpolate.splev(sol.x, fphi_GR, der=0) - 2*ii*np.pi)\n",
    "        # rate at which phi changes (radians / second)\n",
    "        per_rate       = np.append(per_rate, delta_per[-1]/(time_periapsis[-1])) \n",
    "    \n",
    "    precession = asecprad * per_rate * (100*secspy)\n",
    "    return np.mean(precession) # output of ODE, radians of precession\n",
    "\n",
    "#print(signalFunction((6,0)))\n",
    "# returns the log likelihood of the observed data given the model,\n",
    "# assuming gaussian normal errors\n",
    "def lnlike(theta, data):\n",
    "    J2, Jtheta = theta\n",
    "    model = signalFunction(J2, Jtheta)\n",
    "    return -0.5 * np.sum((data - model)**2)\n",
    "\n",
    "# Sean and Aaron's priors\n",
    "Jcutoff0 = 10\n",
    "def lnprior(theta, Jcutoff=Jcutoff0):\n",
    "    J2, Jtheta = theta\n",
    "    '''if not 0 < J2 < Jcutoff:\n",
    "        return -np.inf\n",
    "    else:\n",
    "        return -J2'''\n",
    "    return 1\n",
    "\n",
    "def lnpost(theta, tt, data):\n",
    "    return lnlike(theta, data) + lnprior(theta)\n",
    "#print(lnpost([6,0], 0, 43))"
   ]
  },
  {
   "cell_type": "code",
   "execution_count": null,
   "metadata": {},
   "outputs": [],
   "source": [
    "# Measured precession of Mercury in arcsec/century\n",
    "data = 43.0\n",
    "tt = 0"
   ]
  },
  {
   "cell_type": "markdown",
   "metadata": {},
   "source": [
    "## Setup the Monte Carlo Sampling"
   ]
  },
  {
   "cell_type": "code",
   "execution_count": null,
   "metadata": {},
   "outputs": [],
   "source": [
    "ndim = 2 # number of parameters to estimate\n",
    "nwalkers = 160 # number of walkers\n",
    "nsteps = 1500 # number of steps each walker will take\n",
    "nburn = int(nsteps/10) # number of steps to \"burn in\"\n",
    "nthreads = 16 # number of parallel threads to use"
   ]
  },
  {
   "cell_type": "code",
   "execution_count": null,
   "metadata": {},
   "outputs": [],
   "source": [
    "# Choose initial conditions\n",
    "# We need to know the scaling of the ODE integrator\n",
    "theta0 = np.array(\n",
    "    [[rand()*10, rand()*2*np.pi]\n",
    "     for ii in range(nwalkers)])"
   ]
  },
  {
   "cell_type": "code",
   "execution_count": null,
   "metadata": {},
   "outputs": [],
   "source": [
    "# Run the sampler\n",
    "sampler = emcee.EnsembleSampler(nwalkers, ndim, lnpost, args=(tt, data), threads=nthreads);\n",
    "sampler.run_mcmc(theta0, nsteps);"
   ]
  },
  {
   "cell_type": "markdown",
   "metadata": {},
   "source": [
    "## Plot the Results"
   ]
  },
  {
   "cell_type": "code",
   "execution_count": null,
   "metadata": {},
   "outputs": [],
   "source": [
    "fig = plt.figure(figsize=(11, 18));\n",
    "gs = gridspec.GridSpec(3, 1, hspace=0.05);\n",
    "J2_ax = fig.add_subplot(gs[0]);\n",
    "Jtheta_ax = fig.add_subplot(gs[1], sharex=J2_ax);\n",
    "for ii in range(0, nwalkers):\n",
    "    J2_ax.plot(sampler.chain[ii, :, 0]);\n",
    "    Jtheta_ax.plot(np.mod(sampler.chain[ii, :, 1], 2*np.pi));\n",
    "plt.setp(J2_ax.get_xticklabels(), visible=False);\n",
    "plt.setp(Jtheta_ax.get_xticklabels(), visible=False);\n",
    "J2_ax.set_ylabel(r'$J_2$');\n",
    "Jtheta_ax.set_ylabel(r'$J_{\\theta}$');\n",
    "Jtheta_ax.set_xlabel('step');\n",
    "Jtheta_ax.set_xlim(0, nsteps);\n",
    "for ax in [J2_ax, Jtheta_ax]:\n",
    "    ax.grid('on', which='both', alpha=0.3);\n",
    "    ax.grid(which='minor', alpha=0.2);\n",
    "\n",
    "plt.savefig(\"Burning.pdf\", bbox_inches='tight')"
   ]
  },
  {
   "cell_type": "code",
   "execution_count": null,
   "metadata": {},
   "outputs": [],
   "source": [
    "# Only take the samples after burning in the sampler to remove effects of initial conditions\n",
    "samples = sampler.chain[:, nburn:, :].reshape((-1, ndim))"
   ]
  },
  {
   "cell_type": "code",
   "execution_count": null,
   "metadata": {},
   "outputs": [],
   "source": [
    "# Make a corner plot\n",
    "fig = corner.corner(samples, labels=[r'$J_2$', r'$J_{\\theta}$']);\n",
    "fig.set_size_inches((12, 12));\n",
    "plt.savefig(\"Burning.pdf\", bbox_inches='tight')"
   ]
  }
 ],
 "metadata": {
  "kernelspec": {
   "display_name": "Python 3",
   "language": "python",
   "name": "python3"
  },
  "language_info": {
   "codemirror_mode": {
    "name": "ipython",
    "version": 3
   },
   "file_extension": ".py",
   "mimetype": "text/x-python",
   "name": "python",
   "nbconvert_exporter": "python",
   "pygments_lexer": "ipython3",
   "version": "3.6.10"
  },
  "varInspector": {
   "cols": {
    "lenName": 16,
    "lenType": 16,
    "lenVar": 40
   },
   "kernels_config": {
    "python": {
     "delete_cmd_postfix": "",
     "delete_cmd_prefix": "del ",
     "library": "var_list.py",
     "varRefreshCmd": "print(var_dic_list())"
    },
    "r": {
     "delete_cmd_postfix": ") ",
     "delete_cmd_prefix": "rm(",
     "library": "var_list.r",
     "varRefreshCmd": "cat(var_dic_list()) "
    }
   },
   "types_to_exclude": [
    "module",
    "function",
    "builtin_function_or_method",
    "instance",
    "_Feature"
   ],
   "window_display": false
  }
 },
 "nbformat": 4,
 "nbformat_minor": 4
}
