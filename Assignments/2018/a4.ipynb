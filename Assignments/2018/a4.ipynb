{
 "cells": [
  {
   "cell_type": "markdown",
   "metadata": {},
   "source": [
    "## ph237 Caltech 2018\n",
    "### Gravitational Radiation\n",
    "#### Assignment #4: White Dwarf Timing Array"
   ]
  },
  {
   "cell_type": "code",
   "execution_count": null,
   "metadata": {},
   "outputs": [],
   "source": [
    "# standard preamble for ph237 notebooks\n",
    "%matplotlib notebook\n",
    "from __future__ import division\n",
    "import numpy as np\n",
    "\n",
    "#from mpl_toolkits.mplot3d import Axes3D\n",
    "\n",
    "import matplotlib as mpl\n",
    "import matplotlib.pyplot as plt\n",
    "from matplotlib import cm\n",
    "#plt.style.use('seaborn-paper')\n",
    "#plt.style.use('fivethirtyeight')\n",
    "\n",
    "import scipy.constants as const\n",
    "from astropy.constants import M_sun\n",
    "\n",
    "mpl.rcParams.update({'text.usetex': False,\n",
    "                     'lines.linewidth': 2.5,\n",
    "                     'font.size': 18,\n",
    "                     'xtick.labelsize': 'medium',\n",
    "                     'ytick.labelsize': 'medium',\n",
    "                     'axes.labelsize': 'small',\n",
    "                     'axes.grid': True,\n",
    "                     'grid.alpha': 0.73,\n",
    "                     'lines.markersize': 12,\n",
    "                     'legend.borderpad': 0.2,\n",
    "                     'legend.fancybox': True,\n",
    "                     'legend.fontsize': 13,\n",
    "                     'legend.framealpha': 0.7,\n",
    "                     'legend.handletextpad': 0.1,\n",
    "                     'legend.labelspacing': 0.2,\n",
    "                     'legend.loc': 'best',\n",
    "                     'savefig.dpi': 100,\n",
    "                     'figure.figsize': (9,6),\n",
    "                     'pdf.compression': 9})"
   ]
  },
  {
   "cell_type": "markdown",
   "metadata": {},
   "source": [
    "## Problem 1: Pulsar Timing Arrays\n",
    "\n",
    "\n",
    "\n",
    "### Part (a)\n",
    "Compute the Antenna Pattern for a single pulsar, located a distance $d_{pe}$ from the Earth. Do so for both polarizations of GWs and produce a 3D plot for each.\n",
    "\n",
    "\n",
    "### Part (b)\n",
    "Assume that the pulsar has a pulse period, $P$, a period derivative of $\\dot{P}$, a pulse width, $W_p$ and...\n",
    "What is the equivalent strain noise spectral density for this single pulsar timing array?\n",
    "\n",
    "### Part (c)\n",
    "For white dwarf binary with $M_1 = M_2 = 0.5 M_{\\odot}$, located at a distance, d = 10 kpc, from the Earth, compute the SNR for the detection of a SMBH binary with $M_3 = M_4 = 10^9 M_{\\odot}$. The SMBH has an apparent orbital frequency of 10 nHz and the strain amplitude of its GWs is h = $10^{-16}$ at the Milky Way galaxy.\n",
    "1. Using your results from HWK \\#2, compute the evolution of the orbital frequency as a function of time f(t) for the white dwarf binary. Plot the 'time until coalescence' as a function of orbital frequency, assuming (naively) that the merger happens when the centers of mass of the two stars are separated by $2 \\times 10^4$ km.\n",
    "1. Now let us consider the modification of the orbit due to tidal forces (bulging and heating) in the quasi-static regime (below the resonant frequency of any g-modes. Plot $\\Phi(f)$, the excess phase lag due to the tidal effects.\n",
    "1. Using hand-waving, order-of-magnitude arguments, explain up to what frequency we will be able to use BWDs as a stable clock.\n",
    "1. Plot the amplitude of the strain $|h(f)|$ from the BWD signal as a function of frequency. Compare with the eLISA strain noise curve.\n",
    "\n"
   ]
  },
  {
   "cell_type": "code",
   "execution_count": null,
   "metadata": {},
   "outputs": [],
   "source": []
  },
  {
   "cell_type": "markdown",
   "metadata": {},
   "source": [
    "### White Dwarf Reading\n",
    "\n",
    "1. [Astro StackExchange: White Dwarf tidal on planets](https://astronomy.stackexchange.com/questions/12238/white-dwarfs-impact-on-orbiting-bodies)\n",
    "1. [Tidal excitations of oscillation modes in compact white dwarf binaries](https://doi.org/10.1111/j.1365-2966.2010.18017.x), Jim Fuller and Dong Lai\n",
    "1. [Tidal Dissipation in Stars and Giant Planets](https://www.annualreviews.org/doi/10.1146/annurev-astro-081913-035941), Ogilvie (2014)\n",
    "\n",
    "#### Binaries in General\n",
    "1. [Early Detection of Compact Binaries](https://doi.org/10.1088/0004-637X/748/2/136)\n"
   ]
  },
  {
   "cell_type": "code",
   "execution_count": null,
   "metadata": {},
   "outputs": [],
   "source": []
  }
 ],
 "metadata": {
  "kernelspec": {
   "display_name": "Python 2",
   "language": "python",
   "name": "python2"
  },
  "language_info": {
   "codemirror_mode": {
    "name": "ipython",
    "version": 2
   },
   "file_extension": ".py",
   "mimetype": "text/x-python",
   "name": "python",
   "nbconvert_exporter": "python",
   "pygments_lexer": "ipython2",
   "version": "2.7.15"
  }
 },
 "nbformat": 4,
 "nbformat_minor": 2
}
