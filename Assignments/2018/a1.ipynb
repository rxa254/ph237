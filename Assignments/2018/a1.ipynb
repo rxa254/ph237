{
 "cells": [
  {
   "cell_type": "markdown",
   "metadata": {},
   "source": [
    "## ph237 Caltech 2018\n",
    "### Gravitational Radiation\n",
    "#### Assignment #1"
   ]
  },
  {
   "cell_type": "code",
   "execution_count": null,
   "metadata": {},
   "outputs": [],
   "source": [
    "# standard preamble for ph237 notebooks\n",
    "%matplotlib notebook\n",
    "from __future__ import division, print_function\n",
    "import numpy as np\n",
    "\n",
    "#from mpl_toolkits.mplot3d import Axes3D\n",
    "\n",
    "import matplotlib as mpl\n",
    "import matplotlib.pyplot as plt\n",
    "from matplotlib import cm\n",
    "plt.style.use('seaborn-paper')\n",
    "#plt.style.use('fivethirtyeight')\n",
    "\n",
    "import scipy.constants as const\n",
    "from astropy.constants import M_sun\n",
    "\n",
    "mpl.rcParams.update({'text.usetex': False,\n",
    "                     'lines.linewidth': 2.5,\n",
    "                     'font.size': 18,\n",
    "                     'xtick.labelsize': 'medium',\n",
    "                     'ytick.labelsize': 'medium',\n",
    "                     'axes.labelsize': 'small',\n",
    "                     'axes.grid': True,\n",
    "                     'grid.alpha': 0.73,\n",
    "                     'lines.markersize': 12,\n",
    "                     'legend.borderpad': 0.2,\n",
    "                     'legend.fancybox': True,\n",
    "                     'legend.fontsize': 13,\n",
    "                     'legend.framealpha': 0.7,\n",
    "                     'legend.handletextpad': 0.1,\n",
    "                     'legend.labelspacing': 0.2,\n",
    "                     'legend.loc': 'best',\n",
    "                     'savefig.dpi': 100,\n",
    "                     'figure.figsize': (9,6),\n",
    "                     'pdf.compression': 9})"
   ]
  },
  {
   "cell_type": "markdown",
   "metadata": {},
   "source": [
    "## Problem 1: Fabry-Perot Cavity\n",
    "\n",
    "**There exists a Fabry-Perot cavity with a length of 4000\\,m. The power transmission, $T_I$, of the input mirror is 1% and the transmission of the end mirror, $T_E$, is 10 ppm. The cavity is illuminated from the input side with a 100 W laser having a wavelength of 437 nm.**\n",
    "\n",
    "### Part (a)\n",
    "\n",
    "** Using the steady state fields approach, solve for the transmitted power as a function of cavity length.**\n",
    "\n",
    "The Fabry-Perot Cavity is schematically drawn below\n",
    "\n",
    "![title](Figures/FPdiagup.jpg)\n",
    "\n",
    "To use the steady state fields approach, we make the ansatz that the field is a superposition of a left-going wave and a right going wave to the left of the cavity (with amplitudes $E_{\\rm in}$ and $E_{\\rm R}$ in the figure), a superposition of a left-going wave and a right going wave inside the cavity  (with amplitudes $E_{1}$ and $E_{2}$ in the figure) and a right-going wave to the right of the cavity ( (with amplitude $E_{\\rm T}$).\n",
    "\n",
    "To use the steady state field approach we have to make sure the ansatz is consistent with the reflectivity and transmissivity at each mirror. This means we solve the system of equations (for $E_1$, $E_2$, $E_{\\rm R}$ and $E_{\\rm T}$ as a function of L , $\\omega$, and $E_{\\rm In}$)\n",
    "\\begin{align}\n",
    "E_{\\rm R}&=-r_I E_{\\rm In} \\\\\n",
    "E_1&=t_I E_{\\rm In}-r_I E_2 \\\\\n",
    "E_2& =-r_E e^{-2i\\phi}E_1 \\\\\n",
    "E_{\\rm T}&=t_E e^{-i\\phi}E_1,\n",
    "\\end{align}\n",
    "where the phase $\\phi =\\omega_0L/c$ and the lower case $t$ and $r$ are the amplitude transmissivity and reflectivity (which are the square roots of the energy transmissivity and reflectivity). \n",
    "This solution for the transmitted field is \n",
    "\\begin{align}\n",
    "E_{\\rm T}=\\frac{t_Et_I e^{-i\\phi}}{1-r_Ir_E e^{-2i\\phi}}E_{\\rm In}\n",
    "\\end{align}\n",
    "\n",
    "The power is proportional to the field modulus squared $P\\propto |E|^2$; Hence the transmitted power is\n",
    "\\begin{align}\n",
    "P_T&=\\left |\\frac{t_Et_I e^{-i\\phi}}{1-r_Ir_E e^{-2i\\phi}} \\right |^2P_{\\rm In} \\nonumber \\\\\n",
    "&=\\frac{T_ET_I}{1+R_IR_E-2r_Ir_E\\cos(2\\phi)}\n",
    ",\n",
    "\\end{align}\n",
    "where $P_{\\rm In}$ is the laser power,"
   ]
  },
  {
   "cell_type": "markdown",
   "metadata": {},
   "source": [
    "### Part b\n",
    "\n",
    "Draw a diagram of the cavity, label each of the nodes, and write down the Adjacency Matrix, $A$, for the Fabry-Perot cavity. Solve for the System Matrix, $G$ using Mathematica or Python or otherwise, and show how one of the elements of $G$ can be used to find the solution in part a)"
   ]
  },
  {
   "cell_type": "markdown",
   "metadata": {},
   "source": [
    "We translate the optical system into a directed graph\n",
    "\n",
    "![title](Figures/FPgraphup.jpg)"
   ]
  },
  {
   "cell_type": "markdown",
   "metadata": {},
   "source": [
    "and then write down the adjacency matrix, defined as\n",
    "\n",
    "$A_{ij}=\\text{value of connection connecting node j to node i}$\n",
    "\n",
    "as well as the system matrix $G=(1-A)^{-1}$"
   ]
  },
  {
   "cell_type": "code",
   "execution_count": null,
   "metadata": {},
   "outputs": [],
   "source": [
    "# Define adjacency matrix for FP\n",
    "def A(w):\n",
    "    M = np.zeros([7,7],complex)\n",
    "    prop = np.exp(-1j*ph(w))\n",
    "    M[1,0] =  tI\n",
    "    M[1,5] = -rI\n",
    "    M[2,1] =  prop\n",
    "    M[3,2] =  tE\n",
    "    M[4,2] = -rE\n",
    "    M[5,4] =  prop\n",
    "    M[6,0] =  rI\n",
    "    M[6,5] =  tI\n",
    "    return M\n",
    "\n",
    "# function that calculates system matrix G = (1-A)^(-1) for FP\n",
    "def G(w):\n",
    "    return np.linalg.inv(np.identity(7,complex) - A(w))\n"
   ]
  },
  {
   "cell_type": "markdown",
   "metadata": {},
   "source": [
    "Recall that the vector of fields $\\vec E =(E_0, \\dots, E_6)^T$ obeys\n",
    "\\begin{align}\n",
    "\\vec E =A \\vec E +\\vec E_{\\rm Inj},\n",
    "\\end{align}\n",
    "where  the vector of injected fields is (in this case) $\\vec E_{\\rm Inj}=(E_{\\rm In},\\dots)^T$. This means that we can use the system matrix $G=(1-A)^{-1}$ to find the field at any of the node locations via\n",
    "\\begin{align}\n",
    "\\vec E =G \\vec E_{\\rm Inj} .\n",
    "\\end{align}\n",
    "Performing the matrix multiplication, we see that\n",
    "\\begin{align}\n",
    "E_i=G_{i0}E_{\\rm In}.\n",
    "\\end{align}\n"
   ]
  },
  {
   "cell_type": "markdown",
   "metadata": {},
   "source": [
    "# Problem 2: Frequency Respons\n",
    "\n",
    "**In this problem we will compute the frequency response of a LIGO-like interferometer to gravitational waves. Assume that the results from above still hold.**\n",
    "\n",
    "## Part (a)\n",
    "\n",
    "**Assume that we now drive the end mirror with a sinusoidal modulation having an amplitude of $x_0$ and a frequency, $\\omega$. Write down an expression for the fields reflected from the mirror, utilizing the Jacobi-Anger expansion.**\n",
    "\n",
    "As is shown below,\n",
    "\n",
    "![title](Figures/Driven.png)\n",
    "\n",
    "suppose the central location of the mirror is $x=L$ and it is driven so that is position becomes $x=L+\\delta L$, with $\\delta L =x_0 \\cos \\omega t$. We calculate the values of the reflected field $E_{\\rm R}$ (referred to at $x=0$) in terms of the ingoing field $E_{\\rm In}$ (also referred to at $x=0$).\n",
    "\n",
    "At the mirror location $x=L+\\delta L$ the reflected field is simply $-r$ times the ingoing field evaluated at the mirror. The propagation to the mirror from $x=0$ contributes a phase factor $e^{-i\\phi}$ and the propagation from the mirror to $x=0$, also contributes a phase factor of $e^{-i\\phi}$, where $\\phi=\\omega_0(L+\\delta L)/c=\\omega_0(L+x_0\\cos\\omega t)/c$ and $\\omega_0$ is the light frequency. Hence the reflected field is\n",
    "\\begin{align}\n",
    "E_R&=-r_E e^{-2i\\phi}E_{\\rm In} \n",
    "=-r_E e^{-2i\\omega_0L/c}e^{-2i x_0 \\cos (\\omega t)/c} E_{\\rm In}\n",
    "\\end{align}\n",
    "Taylor expanding in small $x_0$ (at fancy restaurants they call this utilizing the Jacobi-Anger expansion)\n",
    "\\begin{align}\n",
    "E_R=-r_E e^{-2i\\omega_0 L/c}\\left[1-i\\frac{x_0\\omega_0}{c}(e^{i\\omega t}+e^{-i\\omega t})\\right]E_{\\rm In} \\label{eq:side}\n",
    "\\end{align}\n",
    "\n",
    "Note if we restore the time dependent factor $e^{i\\omega_0t}$ that the first term has a time dependence $e^{i\\omega_0t}$ (and is simply the reflected field when there is no modulation) while the second two terms are sideband fields with the time dependence $e^{i(\\omega_0\\pm\\omega)t}$."
   ]
  },
  {
   "cell_type": "markdown",
   "metadata": {},
   "source": [
    "## Part b\n",
    "\n",
    "**Use your knowledge of the frequency dependent System Matrix derived above to compute an expression for the transmitted power. Make a plot of the transfer function of the transmitted power as a function of modulation frequency (the y-axis should be in units of Watts/meter).\n",
    "Hint Remember that the transmitted field will be the sum of the DC fields (computed above) and the AC fields}**\n",
    "\n",
    "Now consider the Fabry Perot Cavity of problem one and imagine that we modulate the end mirror with $\\delta L =x_0 \\cos\\omega t$. From part (a), we know that this produces sideband fields at node 4, i.e\n",
    "\\begin{align}\n",
    "E_4=-r_E E_2+ir_E\\frac{x_0\\omega_0}{c}(e^{i\\omega t}+e^{-i\\omega t})E_{2},\n",
    "\\end{align}\n",
    "As we are working to first order in the amplitude modulation, we can take $x_0=0$ when we evaluate $E_2$ the second term. From problem 1, when $x_0=0$, we know how to evaluate $E_2$ in terms of $E_{\\rm In}$ and the system matrix $E_2=G_{20}(\\omega_0)E_{\\rm in}$. Hence\n",
    "\\begin{align}\n",
    "E_4=-r_E E_2+ir_E\\frac{x_0\\omega_0}{c}(e^{i\\omega t}+e^{-i\\omega t})G_{20}(\\omega_0)E_{\\rm in}.\n",
    "\\end{align}\n",
    "Here we are now writing the system matrix $G(\\omega)$ as a function of frequency, with the frequency dependence coming from the frequency dependent phase $\\phi(\\omega)=\\omega L/c$. Thus we see that we are effectively injecting fields at the sideband frequencies $\\omega_0\\pm \\omega$ at node 4. The system matrix evaluated at the sideband frequencies also governs how light at the sideband frequencies propagates through the optical system. Thus we can write the complete field (with it's time dependence) as \n",
    "\\begin{align}\n",
    "\\vec E(t)&=G(\\omega_0)\n",
    "\\begin{bmatrix}\n",
    "E_{\\rm In} \\\\ 0 \\\\0 \\\\0 \\\\0 \\\\0 \\\\0\n",
    "\\end{bmatrix}\n",
    "e^{i\\omega_0 t} \\nonumber \\\\\n",
    "&+G(\\omega_0 +\\omega)\n",
    "\\begin{bmatrix}\n",
    "0 \\\\ 0 \\\\ 0 \\\\0 \\\\ ir_EG_{20}(\\omega_0)E_{\\rm In}x_0\\omega_0/c \\\\ 0 \\\\0\n",
    "\\end{bmatrix}\n",
    "e^{i(\\omega_0+\\omega)t}\n",
    "+G(\\omega_0 -\\omega)\n",
    "\\begin{bmatrix}\n",
    "0 \\\\ 0 \\\\ 0 \\\\0 \\\\ ir_EG_{20}(\\omega_0)E_{\\rm In}x_0\\omega_0/c \\\\ 0 \\\\0\n",
    "\\end{bmatrix}\n",
    "e^{i(\\omega_0-\\omega)t}\n",
    "\\end{align}\n",
    "\n",
    "Performing the matrix multiplication yields a transmitted field (including all of the time dependence) of\n",
    "\\begin{align}\n",
    "E_T(t)&=G_{30}(\\omega_0)E_{\\rm In}e^{i\\omega_0 t} \\nonumber \\\\\n",
    "&+G_{34}(\\omega_0+\\omega)ir_EG_{20}(\\omega_0)x_0\\frac{\\omega_0}{c}E_{\\rm In}e^{i(\\omega+\\omega_0)t}\n",
    "+G_{34}(\\omega_0-\\omega)ir_EG_{20}(\\omega_0)x_0\\frac{\\omega_0}{c}E_{\\rm In}e^{i(-\\omega+\\omega_0)t} \\label{eq:ETmod}\n",
    "\\end{align}\n",
    "\n",
    "Thus we see that the transmitted field also has components at the carrier frequency $\\omega_0$ and and the sideband frequencies $\\omega_0\\pm \\omega$.\n",
    "\n",
    "This produces an output power with a DC component  (computed in problem 1) and a slowly varying (relative to the carrier frequency) modulation at $\\omega$. Namely, anytime the complex electric field is of the form\n",
    "\\begin{align}\n",
    "E(t)=E_0e^{i\\omega_0 t}+E_+e^{i(\\omega_0+\\omega)t}+E_-e^{i(\\omega_0-\\omega)t},\n",
    "\\end{align}\n",
    "with $E_\\pm\\ll E_0$, then\n",
    "the power is\n",
    "\\begin{align}\n",
    "P&\\propto |E|^2 \\nonumber \\\\\n",
    "&=|E_0|^2+E_0 e^{i\\omega_0 t}(E_+^*e^{-i(\\omega_0+\\omega)t}+E_-^*e^{i(\\omega_0+\\omega)t}) +E_0^* e^{-i\\omega_0 t}(E_+e^{i(\\omega_0+\\omega)t}+E_-e^{-i(\\omega_0+\\omega)t}) +\\mathcal{O}(E_\\pm^2) \\nonumber \\\\\n",
    "&=|E_0|^2+e^{i\\omega t}\\left[E_0^*E_++E_0E_-^*\\right]+e^{-i\\omega t}\\left[E_0E_+^*+E_0^*E_-\\right] \\nonumber \\\\\n",
    "&=|E_0|^2 +2A\\cos(\\omega t+\\delta),\n",
    "\\end{align}\n",
    "where $A$ and $\\delta$ are the amplitude and phase of $E_0^*E_++E_0E_-^*=Ae^{i\\delta}$.\n",
    "\n",
    "The transmitted field is of this form with \n",
    "\\begin{align}\n",
    "&E_0=G_{30}(\\omega_0)E_{\\rm In},& &E_{\\pm}=ir_Ex_0\\frac{\\omega_0}{c}G_{34}(\\omega_0\\pm \\omega)G_{20}(\\omega_0)E_{\\rm In}&\n",
    "\\end{align}\n",
    "Note both $E_0$ and $E_{\\pm}$ are proportional to $E_{\\rm in}$. Note that both $A$ and $|E_0|^2$ are proportional to $|E_{\\rm In}|^2$ or equivalently the input power $P_{\\rm In}$. Hence, we can write\n",
    "\\begin{align}\n",
    "P_T=|G_{30}(\\omega_0)|^2P_{\\rm In}+\\Delta P\\cos(\\omega t+\\Phi),\n",
    "\\end{align}\n",
    "where \n",
    "\\begin{align}\n",
    "\\Delta P e^{i\\Phi}&=2G^*_{30}(\\omega_0)ir_Ex_0\\frac{\\omega_0}{c}G_{34}(\\omega_0+\\omega)G_{20}(\\omega_0)+2G_{30}(\\omega_0)(ir_Ex_0\\frac{\\omega_0}{c}G_{34}(\\omega_0-\\omega)G_{20}(\\omega_0))^*P_{\\rm In} \\nonumber \\\\\n",
    "&=2ir_Ex_0\\frac{\\omega_0}{c}\\left[G^*_{30}(\\omega_0)G_{34}(\\omega_0+\\omega)G_{20}(\\omega_0)-G_{30}(\\omega_0)G^*_{34}(\\omega_0-\\omega)G^*_{20}(\\omega_0)\\right]P_{\\rm in},\n",
    "\\end{align}\n",
    "We consider the transfer function from modulation amplitude to power to be $\\Delta P/x_0$. "
   ]
  },
  {
   "cell_type": "markdown",
   "metadata": {},
   "source": [
    "The constants characterizing the Fabry-Perot Cavity in this probelm are below. Note that the length of the cavity is micro-tuned to be slightly off resonance."
   ]
  },
  {
   "cell_type": "code",
   "execution_count": null,
   "metadata": {},
   "outputs": [],
   "source": [
    "#Defining constants\n",
    "c      = const.c    # speed of light\n",
    "lam    = 437e-9           # laser wavelength\n",
    "w0     = 2*np.pi*c/lam    # laser frequency\n",
    "L0     = 4000             # initial length guess\n",
    "L      = round(L0/lam)*lam # length of Fabry Perot cavity (tuned to int # of waves)\n",
    "L     += 10e-12            # add small offset so that there is a linear readout\n",
    "\n",
    "TI     = 0.014             # power transmissivity of input mirror\n",
    "TE     = 1e-5            # power transmissivity of end mirror\n",
    "tI     = np.sqrt(TI)      # amplitude transmissivity of input mirror\n",
    "tE     = np.sqrt(TE)      # amplitdue transmissivity of end mirror\n",
    "RI     = 1-TI             # energy reflectivity of input mirror\n",
    "RE     = 1-TE             # energy reflectivity of end mirror\n",
    "rI     = np.sqrt(RI)      # amplitude reflectivity of input mirror\n",
    "rE     = np.sqrt(RE)      # amplitude reflectivity of end mirror\n",
    "Pin    = 1                # laser power\n",
    "def ph(w):                # phase accumaled over a half round trip in the FP cavity\n",
    "        return w*L/c"
   ]
  },
  {
   "cell_type": "markdown",
   "metadata": {},
   "source": [
    "A function that computes $\\frac{\\Delta P}{x_0} e^{i\\Phi}$. The transfer function for the modulation amplitude is the absolute value of this function and the transfer function for the phase is the arguement."
   ]
  },
  {
   "cell_type": "code",
   "execution_count": null,
   "metadata": {},
   "outputs": [],
   "source": [
    "# define a function that computes Delta P/ x_0 in eq. 22 for FP\n",
    "def P_trans(w):\n",
    "    wc = w0\n",
    "    z = 2j*rE*(2*np.pi/lam)*Pin * (np.conj(G(wc)[3,0]) *        (G(wc+w)[3,4] * G(wc)[2,0]) - \n",
    "                                           G(wc)[3,0]  * np.conj(G(wc-w)[3,4] * G(wc)[2,0]))\n",
    "    \n",
    "    return z"
   ]
  },
  {
   "cell_type": "markdown",
   "metadata": {},
   "source": [
    "Bode plots for magnitude of the tranfer function"
   ]
  },
  {
   "cell_type": "code",
   "execution_count": null,
   "metadata": {},
   "outputs": [],
   "source": [
    "#plot (zoomed out) for FP\n",
    "f = np.logspace(0, 5, 1300)\n",
    "\n",
    "omega = 2*np.pi*f\n",
    "#y = list(map(Transfer, omega))\n",
    "y = np.zeros_like(omega, complex)\n",
    "for i in range(len(omega)):\n",
    "    y[i] = P_trans(omega[i])"
   ]
  },
  {
   "cell_type": "code",
   "execution_count": null,
   "metadata": {},
   "outputs": [],
   "source": [
    "fig1,ax = plt.subplots(2,1, sharex=True, figsize=(8,7))\n",
    "ax[0].loglog(f, np.abs(y),\n",
    "            rasterized=True)\n",
    "ax[0].set_title(r'Single Fabry-Perot transfer function')\n",
    "ax[0].set_ylabel(r'$\\Delta P/x_0 [W/m]$')\n",
    "\n",
    "ax[1].semilogx(f, np.angle(y, deg=True),\n",
    "            rasterized=True)\n",
    "ax[1].set_ylabel(r'Phase [deg]')\n",
    "ax[1].set_xlabel(r'Frequency [Hz]')\n",
    "ax[1].set_yticks(np.arange(-180,181,45))\n",
    "\n",
    "plt.savefig(\"Figures/2bwide.pdf\", bbox_inches='tight')"
   ]
  },
  {
   "cell_type": "markdown",
   "metadata": {},
   "source": [
    "A close up of the resonances. The yellow lines denote the resonances frequency of the static cavity"
   ]
  },
  {
   "cell_type": "code",
   "execution_count": null,
   "metadata": {},
   "outputs": [],
   "source": [
    "# plot (zoomed in) for FP\n",
    "f = np.linspace(0, 1e5, 1000)\n",
    "\n",
    "y = np.zeros_like(f, complex)\n",
    "for i in range(len(f)):\n",
    "    y[i] = P_trans(2*np.pi*f[i])\n",
    "\n",
    "plt.figure(221)\n",
    "plt.semilogy(f/1000, np.abs(y),\n",
    "            rasterized=True)\n",
    "plt.axvline(c/2/L/1000, color='xkcd:tangerine', alpha=0.5, lw=5)\n",
    "plt.axvline(c/1/L/1000, color='xkcd:shit', alpha=0.5, lw=5)\n",
    "\n",
    "plt.xlabel(r'Frequency [kHz]')\n",
    "plt.ylabel(r'$\\Delta P/x_0 [W/m]$')\n",
    "plt.savefig(\"Figures/2bclose.pdf\", bbox_inches='tight')\n"
   ]
  },
  {
   "cell_type": "markdown",
   "metadata": {},
   "source": [
    "## Part c\n",
    "\n",
    "**Now write down a larger Adjacency Matrix which represents a Michelson interferometer with Fabry-Perot cavities in place of the usual end mirrors. Assume that there is a small asymmetry in the Michelson, such that the distance from the beamsplitter to one of the FP cavities is 100 pm larger than the distance to the other cavity.\n",
    "Make a Bode plot of the transfer function as in part b), but instead of the transmission of the FP cavity, use the anti-symmetric (detection) port as the readout.**\n",
    "\n",
    "The optical layout of the Michelson interferometer is\n",
    "\n",
    "![title](Figures/Michelsonup.jpg)\n",
    "\n",
    "The corresponding directed graph is\n",
    "\n",
    "![title](Figures/Michelsongraph.png)\n",
    "\n",
    "We take the mirrors in each Fabry-Perot cavity to be identical. We assume the y-axis FP cavity is located a distance d from the beam splitter\\footnote{The field at the antisymmetric port depends on d when $\\Delta \\neq 0$, but that the power does not. Hence we will set $d=0$ in our numerical computations of the power.} and the the x-cavity is located a distance $d+\\Delta$ from the beam splitter with $\\Delta =100\\,pm$. We take the transmissivity and reflectivity of the beam splitter to be $t_{\\rm BS}=r_{\\rm BS}=1/\\sqrt{2}$.\n"
   ]
  },
  {
   "cell_type": "code",
   "execution_count": null,
   "metadata": {},
   "outputs": [],
   "source": [
    "# part 2c\n",
    "# extra parameters for 2c\n",
    "TBS = 0.5\n",
    "tBS = np.sqrt(TBS) #beam splitter tranmissivity\n",
    "rBS = np.sqrt(1 - TBS) #beam splitter reflectivity\n",
    "\n",
    "# distance to the y FP cavity. \n",
    "# The field at the antisymmetric port depends on d when Del is not zero, but the power doesn't\n",
    "d = 0 \n",
    "\n",
    "Del = 1e-10 #difference between distance to x cavity and the distance to the y cavity"
   ]
  },
  {
   "cell_type": "markdown",
   "metadata": {},
   "source": [
    "We now imagine that the x-axis end mirror is shaken about its central location with $\\delta L= x_0\\cos\\omega t$. Using the results of problem 2 (a) and the logic of 2 (b), this means that the field at the anti-symmetric port is now the field at the carrier frequency plus the result of injecting the field (including the full time dependence)\n",
    "\\begin{align}\n",
    "E_{side}(t)=ir_E\\frac{x_0\\omega_0}{c}(e^{i(\\omega_0 +\\omega)t}+e^{+i(\\omega_0-\\omega )t})G_{20}(\\omega_0)E_{\\rm in}\n",
    "\\end{align}\n",
    "in node 3. Again using the system matrix to propagate the fields, the field at the antisymmetric port is\n",
    "\\begin{align}\n",
    "E_{AS}(t)&=G_{12,0}(\\omega_0)E_{\\rm In}e^{i\\omega_0 t} \\nonumber \\\\\n",
    "&+G_{12,3}(\\omega_0+\\omega)ir_EG_{20}(\\omega_0)x_0\\frac{\\omega_0}{c}E_{\\rm In}e^{i(\\omega+\\omega_0)t}\n",
    "+G_{12,3}(\\omega_0-\\omega)ir_EG_{20}(\\omega_0)x_0\\frac{\\omega_0}{c}E_{\\rm In}e^{i(-\\omega+\\omega_0)t}, \\label{eq:EASmod}\n",
    "\\end{align}\n",
    "which is exactly of the same form of the field as the transmitted field from the modulated Fabry-Perot Cavity, with the exception that we have relabeled the elements of the system matrix to correspond to the correct nodes. Hence, the same logic as above reveals that the power at the antisymmetric port is\n",
    "\\begin{align}\n",
    "P_T=|G_{12,0}(\\omega_0)|^2P_{\\rm In}+\\Delta P\\cos(\\omega t+\\Phi),\n",
    "\\end{align}\n",
    "where \n",
    "\\begin{align}\n",
    "\\Delta P e^{i\\Phi}&=2G^*_{12,0}(\\omega_0)ir_Ex_0\\frac{\\omega_0}{c}G_{12,3}(\\omega_0+\\omega)G_{20}(\\omega_0)+2G_{12,0}(\\omega_0)(ir_Ex_0\\frac{\\omega_0}{c}G_{12,3}(\\omega_0-\\omega)G_{20}(\\omega_0))^*P_{\\rm In} \\nonumber \\\\\n",
    "&=2ir_Ex_0\\frac{\\omega_0}{c}\\left[G^*_{12,0}(\\omega_0)G_{12,3}(\\omega_0+\\omega)G_{20}(\\omega_0)-G_{12,0}(\\omega_0)G^*_{12,3}(\\omega_0-\\omega)G^*_{20}(\\omega_0)\\right]P_{\\rm in},\n",
    "\\end{align}\n",
    "\n",
    "The nonzero components of the adjacency matrix A are \n",
    "\\begin{align}\n",
    "&A_{10}=t_{BS}e^{-i\\phi_x} & \\nonumber \\\\\n",
    "&A_{21}=t_I, & &A_{23}=-r_Ie^{-i\\phi}&  \\nonumber \\\\\n",
    "&A_{32}=-r_Ee^{-i\\phi}& \\nonumber  \\\\\n",
    "&A_{42}=t_Ee^{-i\\phi}& \\nonumber \\\\\n",
    "&A_{51}=r_I, & &A_{53}=t_I e^{-i\\phi}& \\nonumber \\\\\n",
    "&A_{60}=-r_{BS}e^{-i\\phi_y}& \\nonumber \\\\\n",
    "&A_{76}=t_I,& &A_{7,9}=-r_Ie^{-i\\phi}& \\nonumber \\\\\n",
    "&A_{87}=t_E e^{-i\\phi},& \\nonumber \\\\\n",
    "&A_{97}=-r_E e^{-i\\phi},& \\nonumber \\\\\n",
    "&A_{10,6}=r_I,& \n",
    "&A_{10,9}=t_I e^{-i\\phi},& \\nonumber \\\\\n",
    "&A_{11,5}=t_{BS}e^{-i\\phi_x},&\n",
    "&A_{11,10}=-r_{BS}e^{-i\\phi_y}& \\nonumber \\\\\n",
    "&A_{12,5}=r_{BS}e^{-i\\phi_x},&\n",
    "&A_{12,10}=t_{BS}e^{-i\\phi_y}&,\n",
    "\\end{align}\n",
    "where the phases are\n",
    "\\begin{align}\n",
    "\\phi(\\omega)&=\\omega L/c \\nonumber \\\\ \n",
    "\\phi_y(\\omega)&=\\omega d/c \\nonumber  \\\\\n",
    "\\phi_x(\\omega) &=\\omega(d+\\Delta)/c\n",
    "\\end{align}\n",
    "\n",
    "We compute the adjacency matrix, the system matrix and the power transfer funciton $\\frac{\\Delta P}{x_0}e^{i\\Phi}$"
   ]
  },
  {
   "cell_type": "code",
   "execution_count": null,
   "metadata": {},
   "outputs": [],
   "source": [
    "def phx(w): #phase accumulated travelling to the x FP cavity\n",
    "        return w*(d+Del)/c\n",
    "    \n",
    "def phy(w): #phase accumulated travelling to the y FP cavity\n",
    "        return w*(d)/c#plot (zoomed out) for FP\n",
    "\n",
    "# make x be a list of f rather than \\omega, so we can plot transmitted power versus f\n",
    "f = np.logspace(0, 5, 1000)\n",
    "\n",
    "#y = list(map(Transfer, 2*np.pi*f))"
   ]
  },
  {
   "cell_type": "code",
   "execution_count": null,
   "metadata": {},
   "outputs": [],
   "source": [
    "#Define adjacency matrix for Michelson\n",
    "def A(w):\n",
    "    M = np.zeros([13,13],complex)\n",
    "    M[1,0]   = tBS*np.exp(-1j*phx(w))\n",
    "    M[2,1]   = tI\n",
    "    M[2,3]   = -rI*np.exp(-1j*ph(w))\n",
    "    M[3,2]   = -rE*np.exp(-1j*ph(w))\n",
    "    M[4,2]   = tE*np.exp(-1j*phx(w))\n",
    "    M[5,1]   = +rI\n",
    "    M[5,3]   = tI*np.exp(-1j*ph(w))\n",
    "    M[6,0]   = -rBS*np.exp(-1j*phy(w))\n",
    "    M[7,6]   = tI\n",
    "    M[7,9]   = -rI*np.exp(-1j*ph(w))\n",
    "    M[8,7]   = tE*np.exp(-1j*ph(w))\n",
    "    M[9,7]   = -rE*np.exp(-1j*ph(w))\n",
    "    M[10,6]  = +rI\n",
    "    M[10,9]  = tI*np.exp(-1j*ph(w))\n",
    "    M[11,5]  = tBS*np.exp(-1j*phx(w))\n",
    "    M[11,10] = -rBS*np.exp(-1j*phy(w))\n",
    "    M[12,5]  = rBS*np.exp(-1j*phx(w))\n",
    "    M[12,10] = tBS*np.exp(-1j*phy(w))\n",
    "    return M\n",
    "\n",
    "# function that calculates system matrix G = (1-A)^(-1) for Michelson\n",
    "def G(w):\n",
    "    return np.linalg.inv(np.identity(13,complex) - A(w))\n",
    "\n",
    "#define a function that computes Delta P/ x_0 in eq. 26 for Michelson\n",
    "def P_dark(w):\n",
    "    z = 2j * rE * Pin* (w0/c) * (np.conj(G(w0)[12,0])*         G(w0+w)[12,3] * G(w0)[2,0] - \n",
    "                                         G(w0)[12,0] * np.conj(G(w0-w)[12,3] * G(w0)[2,0]))\n",
    "    return z"
   ]
  },
  {
   "cell_type": "markdown",
   "metadata": {},
   "source": [
    "Bode plots"
   ]
  },
  {
   "cell_type": "code",
   "execution_count": null,
   "metadata": {},
   "outputs": [],
   "source": [
    "#plot (zoomed out) for Fabry-Perot Michelson\n",
    "f = np.logspace(0, 5, 1000)\n",
    "\n",
    "#y = list(map(Transfer, omega))\n",
    "y = np.zeros_like(f, complex)\n",
    "for i in range(len(f)):\n",
    "    y[i] = P_dark(2*np.pi*f[i])"
   ]
  },
  {
   "cell_type": "code",
   "execution_count": null,
   "metadata": {},
   "outputs": [],
   "source": [
    "fig23, ax = plt.subplots(2,1, sharex=True, figsize=(8,7))\n",
    "ax[0].loglog(f, np.abs(y),\n",
    "            rasterized=True, c='xkcd:Burple')\n",
    "ax[0].set_title(r'Michelson w/ Fabry-Perot arms')\n",
    "ax[0].set_ylabel(r'$\\Delta P/x_0 [W/m]$')\n",
    "\n",
    "ax[1].semilogx(f, np.angle(y, deg=True),\n",
    "            rasterized=True, c='xkcd:primary blue')\n",
    "ax[1].set_ylabel(r'Phase [deg]')\n",
    "ax[1].set_xlabel(r'Frequency [Hz]')\n",
    "ax[1].set_yticks(np.arange(-180,181,45))\n",
    "\n",
    "plt.savefig(\"Figures/2cwide.pdf\")"
   ]
  },
  {
   "cell_type": "markdown",
   "metadata": {},
   "source": [
    "Close up of the resonances. The yellow lines denote the resonances frequency of the static Fabry Perot cavity"
   ]
  },
  {
   "cell_type": "code",
   "execution_count": null,
   "metadata": {},
   "outputs": [],
   "source": [
    "#plot (zoomed in) for Michelson\n",
    "# make x be a list of f rather than \\omega, so we can plot transmitted power versus f\n",
    "f = np.linspace(0, 1e5, 1000)\n",
    "\n",
    "y = np.zeros_like(f, complex)\n",
    "for i in range(len(f)):\n",
    "    y[i] = P_dark(2*np.pi*f[i])\n",
    "\n",
    "plt.figure(227)\n",
    "plt.semilogy(f/1000, np.abs(y),\n",
    "            rasterized=True)\n",
    "plt.axvline(c/2/L/1000, color='xkcd:tangerine', alpha=0.5, lw=5)\n",
    "plt.axvline(c/1/L/1000, color='xkcd:shit',      alpha=0.5, lw=5)\n",
    "\n",
    "plt.xlabel(r'Frequency [kHz]')\n",
    "plt.ylabel(r'$\\Delta P/x_0 [W/m]$')\n",
    "\n",
    "plt.savefig(\"Figures/2cclose.pdf\")"
   ]
  },
  {
   "cell_type": "code",
   "execution_count": null,
   "metadata": {},
   "outputs": [],
   "source": []
  }
 ],
 "metadata": {
  "kernelspec": {
   "display_name": "Python 2",
   "language": "python",
   "name": "python2"
  },
  "language_info": {
   "codemirror_mode": {
    "name": "ipython",
    "version": 2
   },
   "file_extension": ".py",
   "mimetype": "text/x-python",
   "name": "python",
   "nbconvert_exporter": "python",
   "pygments_lexer": "ipython2",
   "version": "2.7.14"
  }
 },
 "nbformat": 4,
 "nbformat_minor": 2
}
